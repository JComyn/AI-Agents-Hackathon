{
 "cells": [
  {
   "cell_type": "code",
   "execution_count": null,
   "metadata": {},
   "outputs": [],
   "source": [
    "### VIDEO TUTORIAL DEL NOTEBOOK: https://www.youtube.com/watch?v=MqbPVdLu0oU&t=68s"
   ]
  },
  {
   "cell_type": "markdown",
   "metadata": {},
   "source": [
    "### Initialize Libraries and Keys"
   ]
  },
  {
   "cell_type": "code",
   "execution_count": 1,
   "metadata": {
    "collapsed": true,
    "jupyter": {
     "outputs_hidden": true
    }
   },
   "outputs": [
    {
     "name": "stdout",
     "output_type": "stream",
     "text": [
      "Collecting pinecone-client\n",
      "  Downloading pinecone_client-3.1.0-py3-none-any.whl.metadata (14 kB)\n",
      "Requirement already satisfied: certifi>=2019.11.17 in ./.miniconda3/lib/python3.11/site-packages (from pinecone-client) (2023.5.7)\n",
      "Requirement already satisfied: tqdm>=4.64.1 in ./.miniconda3/lib/python3.11/site-packages (from pinecone-client) (4.65.0)\n",
      "Requirement already satisfied: typing-extensions>=3.7.4 in ./.miniconda3/lib/python3.11/site-packages (from pinecone-client) (4.10.0)\n",
      "Requirement already satisfied: urllib3>=1.26.0 in ./.miniconda3/lib/python3.11/site-packages (from pinecone-client) (1.26.16)\n",
      "Downloading pinecone_client-3.1.0-py3-none-any.whl (210 kB)\n",
      "\u001b[2K   \u001b[90m━━━━━━━━━━━━━━━━━━━━━━━━━━━━━━━━━━━━━━━━\u001b[0m \u001b[32m211.0/211.0 kB\u001b[0m \u001b[31m6.8 MB/s\u001b[0m eta \u001b[36m0:00:00\u001b[0m\n",
      "\u001b[?25hInstalling collected packages: pinecone-client\n",
      "Successfully installed pinecone-client-3.1.0\n",
      "Note: you may need to restart the kernel to use updated packages.\n",
      "Requirement already satisfied: tqdm in ./.miniconda3/lib/python3.11/site-packages (4.65.0)\n",
      "Note: you may need to restart the kernel to use updated packages.\n"
     ]
    }
   ],
   "source": [
    "# Install libraries into kernel \n",
    "%pip install pinecone-client\n",
    "%pip install tqdm\n",
    "%pip install openai\n",
    "%pip install langchain\n",
    "%pip install tiktoken"
   ]
  },
  {
   "cell_type": "code",
   "execution_count": 7,
   "metadata": {},
   "outputs": [],
   "source": [
    "# Base Python data handling environment imports \n",
    "import pandas as pd\n",
    "import os\n",
    "from tqdm.auto import tqdm\n",
    "import time\n",
    "\n",
    "# Pinecone is a cloud-based Vector Database we'll use \n",
    "# to store embeddings\n",
    "import pinecone\n",
    "\n",
    "# OpenAI is used for the embedding LLM and GenAI model \n",
    "# used to generate responses\n",
    "import openai\n",
    "\n",
    "# Langchain is middleware that ties together the components \n",
    "# of the embedding and retrieval pipelines \n",
    "\n",
    "# The embedding chain creates searchable vectors of our data\n",
    "from langchain.embeddings.openai import OpenAIEmbeddings\n",
    "\n",
    "# A link in the chain to operate a chat session\n",
    "from langchain.chat_models import ChatOpenAI\n",
    "\n",
    "# We'll maintain some memory of the chat so follow-up questions\n",
    "# will be context-sensitive\n",
    "from langchain.chains.conversation.memory \\\n",
    "import ConversationBufferWindowMemory\n",
    "from langchain.chains import RetrievalQA"
   ]
  },
  {
   "cell_type": "markdown",
   "metadata": {},
   "source": [
    "### Get Environment Variables\n",
    "\n",
    "When using VSCode, install the dotenv extension and create an .env file with these contents:\n",
    "\n",
    "OPENAI_KEY=YOUR_OPENAI_API_KEY\n",
    "\n",
    "PINECONE_KEY=YOUR_PINECONE_KEY"
   ]
  },
  {
   "cell_type": "code",
   "execution_count": 2,
   "metadata": {},
   "outputs": [],
   "source": [
    "# Hay que crearse una cuenta de pinecone para la database (dan 100eur gratis)\n",
    "\n",
    "OPENAI_KEY=\"\"\n",
    "openai.api_key = OPENAI_KEY\n",
    "EMBEDDING_MODEL=\"text-embedding-ada-002\"\n",
    "GENAI_MODEL='gpt-3.5-turbo'\n",
    "\n",
    "PINECONE_KEY=\"\"\n",
    "PINECONE_ENV=\"gcp-starter\"\n",
    "PINECONE_INDEX_NAME=\"default\" # this will be created below"
   ]
  },
  {
   "cell_type": "markdown",
   "metadata": {},
   "source": [
    "### Read Input Data"
   ]
  },
  {
   "cell_type": "code",
   "execution_count": 37,
   "metadata": {},
   "outputs": [
    {
     "data": {
      "text/html": [
       "<div>\n",
       "<style scoped>\n",
       "    .dataframe tbody tr th:only-of-type {\n",
       "        vertical-align: middle;\n",
       "    }\n",
       "\n",
       "    .dataframe tbody tr th {\n",
       "        vertical-align: top;\n",
       "    }\n",
       "\n",
       "    .dataframe thead th {\n",
       "        text-align: right;\n",
       "    }\n",
       "</style>\n",
       "<table border=\"1\" class=\"dataframe\">\n",
       "  <thead>\n",
       "    <tr style=\"text-align: right;\">\n",
       "      <th></th>\n",
       "      <th>ID</th>\n",
       "      <th>barrio</th>\n",
       "      <th>distrito</th>\n",
       "      <th>datos</th>\n",
       "    </tr>\n",
       "  </thead>\n",
       "  <tbody>\n",
       "    <tr>\n",
       "      <th>0</th>\n",
       "      <td>1</td>\n",
       "      <td>Madrid Centro</td>\n",
       "      <td>Palacio\\r</td>\n",
       "      <td>{\\n \\\"comprar\\\": [\\n \\\"Precio de compra de pis...</td>\n",
       "    </tr>\n",
       "    <tr>\n",
       "      <th>1</th>\n",
       "      <td>2</td>\n",
       "      <td>Madrid Centro</td>\n",
       "      <td>Sol</td>\n",
       "      <td>{\\n    \\\"comprar\\\": \\\"Precio de compra de piso...</td>\n",
       "    </tr>\n",
       "    <tr>\n",
       "      <th>2</th>\n",
       "      <td>3</td>\n",
       "      <td>Arganzuela</td>\n",
       "      <td>Delicia</td>\n",
       "      <td>{\\n    \\\"comprar\\\": [\\n        \\\"Precio de com...</td>\n",
       "    </tr>\n",
       "    <tr>\n",
       "      <th>3</th>\n",
       "      <td>4</td>\n",
       "      <td>Ciudad Lineal</td>\n",
       "      <td>Costillares</td>\n",
       "      <td>{\\n    \\\"comprar\\\": [\\n        \\\"Precio de com...</td>\n",
       "    </tr>\n",
       "    <tr>\n",
       "      <th>4</th>\n",
       "      <td>5</td>\n",
       "      <td>Madrid Centro</td>\n",
       "      <td>embajadores-lavapies</td>\n",
       "      <td>{\\n    \\\"comprar\\\": \\\"Precio de compra de piso...</td>\n",
       "    </tr>\n",
       "  </tbody>\n",
       "</table>\n",
       "</div>"
      ],
      "text/plain": [
       "  ID         barrio              distrito  \\\n",
       "0  1  Madrid Centro             Palacio\\r   \n",
       "1  2  Madrid Centro                   Sol   \n",
       "2  3     Arganzuela               Delicia   \n",
       "3  4  Ciudad Lineal           Costillares   \n",
       "4  5  Madrid Centro  embajadores-lavapies   \n",
       "\n",
       "                                               datos  \n",
       "0  {\\n \\\"comprar\\\": [\\n \\\"Precio de compra de pis...  \n",
       "1  {\\n    \\\"comprar\\\": \\\"Precio de compra de piso...  \n",
       "2  {\\n    \\\"comprar\\\": [\\n        \\\"Precio de com...  \n",
       "3  {\\n    \\\"comprar\\\": [\\n        \\\"Precio de com...  \n",
       "4  {\\n    \\\"comprar\\\": \\\"Precio de compra de piso...  "
      ]
     },
     "execution_count": 37,
     "metadata": {},
     "output_type": "execute_result"
    }
   ],
   "source": [
    "# cleaned datos es un csv con en cada fila el texto de cada html. Hay que limpiarlo mas\n",
    "\n",
    "df = pd.read_csv(\"AI AGENT.csv\")\n",
    "df.columns=[\"barrio\", \"distrito\", \"datos\"]\n",
    "df.insert(0, 'ID', range(1, 1 + len(df))) # primera columna con ids\n",
    "df['ID'] = df['ID'].astype(str) # se ponen como strings\n",
    "df.dropna() # elimninar valores a null\n",
    "\n",
    "df.head()"
   ]
  },
  {
   "cell_type": "code",
   "execution_count": null,
   "metadata": {
    "collapsed": true,
    "jupyter": {
     "outputs_hidden": true
    }
   },
   "outputs": [],
   "source": [
    "df.shape"
   ]
  },
  {
   "cell_type": "code",
   "execution_count": 42,
   "metadata": {},
   "outputs": [],
   "source": [
    "filtered_df = df.astype(str)   # Opción de filtrar o mejorar mas el dataframe"
   ]
  },
  {
   "cell_type": "markdown",
   "metadata": {},
   "source": [
    "### Create the Pinecone Vector Database if does not exist"
   ]
  },
  {
   "cell_type": "code",
   "execution_count": 10,
   "metadata": {},
   "outputs": [
    {
     "name": "stdout",
     "output_type": "stream",
     "text": [
      "{'dimension': 1536,\n",
      " 'host': 'default-b06ers8.svc.apw5-4e34-81fa.pinecone.io',\n",
      " 'metric': 'cosine',\n",
      " 'name': 'default',\n",
      " 'spec': {'serverless': {'cloud': 'aws', 'region': 'us-west-2'}},\n",
      " 'status': {'ready': True, 'state': 'Ready'}}\n"
     ]
    }
   ],
   "source": [
    "# Corregido para que funcione con la nueva api de pinecone\n",
    "from pinecone import Pinecone\n",
    "\n",
    "pinecone = Pinecone(api_key=PINECONE_KEY, environment = PINECONE_ENV)\n",
    "index_list = pinecone.list_indexes()\n",
    "if len(index_list) == 0:\n",
    "    pinecone.create_index(\n",
    "      name=PINECONE_INDEX_NAME,\n",
    "      dimension=1536,\n",
    "      metric=\"cosine\",\n",
    "      spec=ServerlessSpec(\n",
    "        cloud=\"aws\",\n",
    "        region=\"us-west-2\"\n",
    "      )\n",
    "    )\n",
    "\n",
    "print(pinecone.describe_index(PINECONE_INDEX_NAME))\n",
    "index = pinecone.Index(PINECONE_INDEX_NAME)"
   ]
  },
  {
   "cell_type": "markdown",
   "metadata": {},
   "source": [
    "### Generate Embedding Index"
   ]
  },
  {
   "cell_type": "code",
   "execution_count": 11,
   "metadata": {},
   "outputs": [
    {
     "name": "stderr",
     "output_type": "stream",
     "text": [
      "/workspace/.miniconda3/lib/python3.11/site-packages/langchain_core/_api/deprecation.py:117: LangChainDeprecationWarning: The class `langchain_community.embeddings.openai.OpenAIEmbeddings` was deprecated in langchain-community 0.1.0 and will be removed in 0.2.0. An updated version of the class exists in the langchain-openai package and should be used instead. To use it run `pip install -U langchain-openai` and import as `from langchain_openai import OpenAIEmbeddings`.\n",
      "  warn_deprecated(\n"
     ]
    }
   ],
   "source": [
    "# This references the text-embedding-ada-002 OpenAI model we'll use to create embeddings \n",
    "# Both for indexing ground knowledge content, and later when searching ground knowledge\n",
    "# For RAG documents to include in LLM Prompts\n",
    "\n",
    "embed = OpenAIEmbeddings(\n",
    "    model = EMBEDDING_MODEL,\n",
    "    openai_api_key= OPENAI_KEY)"
   ]
  },
  {
   "cell_type": "code",
   "execution_count": null,
   "metadata": {},
   "outputs": [],
   "source": [
    "# en nuestro csv las columnas se llaman barrio, distrito y datos. \n",
    "\n",
    "# This is a for loop to create embeddings for each of the articles, and \n",
    "# Then add the embeddings and orgiional article text to the vector databse\n",
    "batch_size = 20 \n",
    "\n",
    "for i in tqdm(range(0, len(filtered_df), batch_size)):\n",
    "    # OpenAPI has rate limits, and we use batches to slow the pace of embedding requests\n",
    "    i_end = min(i+batch_size, len(filtered_df))\n",
    "    batch = filtered_df.iloc[i:i_end]\n",
    "    \n",
    "    # When querying the Vector DB for nearest vectors, the metadata \n",
    "    # is what is returned and added to the LLM Prompt (the \"Grounding Knowledge\")\n",
    "    meta_data = [{\"barrio\" : row['barrio'], \n",
    "                  \"distrito\": row['distrito'],\n",
    "              \"datos\": row['datos']} \n",
    "             for i, row in batch.iterrows()]\n",
    "    \n",
    "    # Get a list of documents to submit to OpenAI for embedding  \n",
    "    docs = batch['datos'].tolist() \n",
    "    emb_vectors = embed.embed_documents(docs) \n",
    "\n",
    "    # The original ID keys are used as the PK in the Vector DB\n",
    "    ids = batch['ID'].tolist()\n",
    "    \n",
    "    # Add embeddings, associated metadata, and the keys to the vector DB\n",
    "    to_upsert = zip(ids, emb_vectors, meta_data)    \n",
    "    index.upsert(vectors=to_upsert)\n",
    "    \n",
    "    # Pause for 10 seconds after each batch to avoid rate limits\n",
    "    time.sleep(10) "
   ]
  },
  {
   "cell_type": "markdown",
   "metadata": {},
   "source": [
    "### Submit a simple query to the Vector Index to ensure we it works!"
   ]
  },
  {
   "cell_type": "code",
   "execution_count": 44,
   "metadata": {
    "collapsed": true,
    "jupyter": {
     "outputs_hidden": true
    },
    "scrolled": true
   },
   "outputs": [
    {
     "data": {
      "text/plain": [
       "[Document(page_content='The average price per square meter for buying a house in PAU de Carabanchel, Madrid Capital, as of February 2024, is approximately 3,369 €/m²1.\\r\\nThe average value of a property in this area is around 302,306 €1.\\r\\nThe price per square meter varies depending on the number of rooms:\\r\\nStudio or 1 room: 3,624 €/m²\\r\\n2 rooms: 3,353 €/m²\\r\\n3 rooms: 3,321 €/m²\\r\\nMore than 3 rooms: Price not available1.\\r\\nThe average value of a property also varies by size:\\r\\nLess than 100 m²: 266,273 €\\r\\nMore than 100 m²: 368,367 €1.\\r\\nThere are currently 17 properties for sale in the area1.', metadata={'barrio': 'Carabanchel', 'distrito': 'pau-de-carabanchel'}),\n",
       " Document(page_content='The average price per square meter for buying a house in Nueva España, Madrid Capital, as of February 2024, is approximately 6,474 €/m²1.\\r\\nThe average value of a property in this area is around 985,755 €1.\\r\\nThe price per square meter varies depending on the number of rooms:\\r\\nStudio or 1 room: 5,591 €/m²\\r\\n2 rooms: 6,441 €/m²\\r\\n3 rooms: 6,485 €/m²\\r\\nMore than 3 rooms: 6,566 €/m²1.\\r\\nThe average value of a property also varies by size:\\r\\nLess than 100 m²: 449,765 €\\r\\nMore than 100 m²: 1,213,551 €1.\\r\\nThere are currently 107 properties for sale in the area1.', metadata={'barrio': 'Chamartin', 'distrito': 'nueva-espana'}),\n",
       " Document(page_content='The average price per square meter for buying a house in Numancia, Madrid Capital, as of January 2024, is approximately 2,491 €/m²1.\\r\\nThe average value of a property in this area is around 172,479 €1.\\r\\nThe price per square meter varies depending on the number of rooms:\\r\\nStudio or 1 room: 2,923 €/m²\\r\\n2 rooms: 2,592 €/m²\\r\\n3 rooms: 2,211 €/m²\\r\\nMore than 3 rooms: Price not available1.\\r\\nThe average value of a property also varies by size:\\r\\nLess than 100 m²: 158,248 €\\r\\nMore than 100 m²: 240,075 €1.\\r\\nThere are currently 133 properties for sale in the area1.', metadata={'barrio': 'Puente de Vallecas', 'distrito': 'numancia'})]"
      ]
     },
     "execution_count": 44,
     "metadata": {},
     "output_type": "execute_result"
    }
   ],
   "source": [
    "from langchain.vectorstores import Pinecone\n",
    "vectorstore = Pinecone(index, embed, \"datos\")\n",
    "#preguntar algo de madrid\n",
    "query = \"Es caro el centro de madrid?\" #ask some question that's answerable with the content added to the Vector DB\n",
    "vectorstore.similarity_search(query, k=3)"
   ]
  },
  {
   "cell_type": "markdown",
   "metadata": {},
   "source": [
    "### Create a GPT 3.5 Turbo Chatbot with a 5 response memory"
   ]
  },
  {
   "cell_type": "code",
   "execution_count": 58,
   "metadata": {},
   "outputs": [],
   "source": [
    "# Create a reference to the OpenAI LLM\n",
    "llm = ChatOpenAI(openai_api_key = OPENAI_KEY,\n",
    "                model_name = GENAI_MODEL,\n",
    "                temperature = 0.0) # si se sube la temperatura es mas creativo (probarlo a 0.2)\n",
    "\n",
    "# Ensure the chat session includes memory of 5 previous messages\n",
    "conv_mem = ConversationBufferWindowMemory(\n",
    "    memory_key = 'history',\n",
    "    k = 5,\n",
    "    return_messages =True)\n",
    "\n",
    "# Create the chain to manage the chat session\n",
    "qa = RetrievalQA.from_chain_type(\n",
    "    llm = llm,\n",
    "    chain_type = \"stuff\",\n",
    "    retriever = vectorstore.as_retriever())"
   ]
  },
  {
   "cell_type": "markdown",
   "metadata": {},
   "source": [
    "### DEMO: Andrew's conversation with the chatbot"
   ]
  },
  {
   "cell_type": "code",
   "execution_count": 60,
   "metadata": {},
   "outputs": [
    {
     "data": {
      "text/plain": [
       "'Dentro de tu presupuesto de 1000€ para vivir en un bonito apartamento en Madrid, te recomendaría buscar en los barrios de Puerta Bonita, Pueblo Nuevo, o Embajadores - Lavapiés, ya que los precios de la vivienda en esos barrios se encuentran dentro de esa gama de precios.'"
      ]
     },
     "execution_count": 60,
     "metadata": {},
     "output_type": "execute_result"
    }
   ],
   "source": [
    "qa.run(\"Estoy buscando vivir en un bonito apartamento dentro del presupuesto de 1000€ en Madrid. ¿A qué barrio voy?\")"
   ]
  },
  {
   "cell_type": "code",
   "execution_count": 61,
   "metadata": {},
   "outputs": [
    {
     "data": {
      "text/plain": [
       "'En la zona de Quintana, el precio medio por metro cuadrado para comprar una vivienda de 3 habitaciones es de 3.307 €/m² y para alquilar sería de 1.419 €/m². Mientras que en Ventas, el precio medio por metro cuadrado para comprar una vivienda de 3 habitaciones es de 3.522 €/m² y para alquilar sería de 1.473 €/m². En Buena Vista, el precio medio por metro cuadrado para comprar una vivienda de 3 habitaciones es de 2.389 €/m² y para alquilar sería de 998 €/m².'"
      ]
     },
     "execution_count": 61,
     "metadata": {},
     "output_type": "execute_result"
    }
   ],
   "source": [
    "qa.run(\"Es importante para mi tener al menos tres habitaciones\")"
   ]
  },
  {
   "cell_type": "code",
   "execution_count": 62,
   "metadata": {},
   "outputs": [
    {
     "data": {
      "text/plain": [
       "'En la zona de Butarque, Madrid, el precio medio de compra por metro cuadrado es de 2.693 €/m², con un valor medio de un inmueble de 222.453 €. Sin embargo, ten en cuenta que estos datos son aproximados y pueden variar dependiendo de las características específicas de la vivienda.'"
      ]
     },
     "execution_count": 62,
     "metadata": {},
     "output_type": "execute_result"
    }
   ],
   "source": [
    "qa.run(\"¿Cúanto cuesta comprar un piso en esa zona?\")"
   ]
  },
  {
   "cell_type": "markdown",
   "metadata": {},
   "source": [
    "### Now have a conversation about the documents that were added to the grounding data vector database"
   ]
  },
  {
   "cell_type": "code",
   "execution_count": 29,
   "metadata": {},
   "outputs": [
    {
     "name": "stderr",
     "output_type": "stream",
     "text": [
      "/workspace/.miniconda3/lib/python3.11/site-packages/langchain_core/_api/deprecation.py:117: LangChainDeprecationWarning: The function `run` was deprecated in LangChain 0.1.0 and will be removed in 0.2.0. Use invoke instead.\n",
      "  warn_deprecated(\n"
     ]
    },
    {
     "data": {
      "text/plain": [
       "\"Based on the information provided, Sol seems to be a relatively expensive area in Madrid. The average price per square meter for buying property in Sol is around €7,767, which is higher than some other areas mentioned in the data. However, without a direct comparison to other areas, it's difficult to determine if Sol is one of the most expensive areas in Madrid.\""
      ]
     },
     "execution_count": 29,
     "metadata": {},
     "output_type": "execute_result"
    }
   ],
   "source": [
    "qa.run(\"Is Sol an expensive area in Madrid?\")"
   ]
  },
  {
   "cell_type": "code",
   "execution_count": 30,
   "metadata": {},
   "outputs": [
    {
     "data": {
      "text/plain": [
       "'In the provided information, the flats mentioned have different numbers of rooms. In Palacio, the most common number of rooms is 3. In Pilar, the most common number of rooms is also 3. In Trafalgar, the most common number of rooms is 3 for buying and 1 for renting. In Embajadores - Lavapiés, the most common number of rooms is 3.'"
      ]
     },
     "execution_count": 30,
     "metadata": {},
     "output_type": "execute_result"
    }
   ],
   "source": [
    "qa.run(\"How many rooms do flats have there?\")"
   ]
  }
 ],
 "metadata": {
  "kernelspec": {
   "display_name": "Conda",
   "language": "python",
   "name": "python3"
  },
  "language_info": {
   "codemirror_mode": {
    "name": "ipython",
    "version": 3
   },
   "file_extension": ".py",
   "mimetype": "text/x-python",
   "name": "python",
   "nbconvert_exporter": "python",
   "pygments_lexer": "ipython3",
   "version": "3.11.4"
  }
 },
 "nbformat": 4,
 "nbformat_minor": 4
}
